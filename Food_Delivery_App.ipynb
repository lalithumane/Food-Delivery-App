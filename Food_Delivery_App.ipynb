{
 "cells": [
  {
   "cell_type": "code",
   "execution_count": 51,
   "id": "4d091d93",
   "metadata": {},
   "outputs": [],
   "source": [
    "import json"
   ]
  },
  {
   "cell_type": "code",
   "execution_count": 52,
   "id": "b8c91886",
   "metadata": {},
   "outputs": [],
   "source": [
    "import datetime"
   ]
  },
  {
   "cell_type": "code",
   "execution_count": 53,
   "id": "d1cd18ee",
   "metadata": {},
   "outputs": [
    {
     "name": "stdout",
     "output_type": "stream",
     "text": [
      "User alreay exists\n"
     ]
    }
   ],
   "source": [
    "def registed_user(user_json,fullname,phone_number,email,address,password):\n",
    "    user = {\n",
    "        \"id\":1,\n",
    "        \"name\":fullname,\n",
    "        \"Phone Number\":phone_number,\n",
    "        \"Email\":email,\n",
    "        \"Address\":address,\n",
    "        \"Password\":password,\n",
    "        \"Order history\":[]\n",
    "             \n",
    "    }\n",
    "    try:\n",
    "        file=open(user_json,\"r+\")\n",
    "        content=json.load(file)\n",
    "        for i in range(len(content)):\n",
    "            if content[i][\"Phone Number\"] == phone_number:#if phone number is already available then it will execute. if it is empty list this will not run\n",
    "                file.close()\n",
    "                return\"User alreay exists\"\n",
    "        else:\n",
    "            user[\"id\"]==len(content) + 1 # it will creat new id\n",
    "            content.append(user)\n",
    "    except JSONDecodeError:\n",
    "        content = []\n",
    "        content.append(user)                 \n",
    "    file.seek(0)\n",
    "    file.truncate()\n",
    "    json.dump(content, file, indent=4)\n",
    "    file.close()\n",
    "    return \"success\"\n",
    "print(registed_user(\"user.json\",\"Lalit\",\"7507108711\",\"lalithumane@gmail.com\",\"Amravati\",\"Lalit@123\"))\n",
    "        \n",
    "  "
   ]
  },
  {
   "cell_type": "code",
   "execution_count": 54,
   "id": "52784fd0",
   "metadata": {},
   "outputs": [
    {
     "name": "stdout",
     "output_type": "stream",
     "text": [
      "Success\n"
     ]
    }
   ],
   "source": [
    "def update_profile(user_json,user_id,fullname,phone_number,email,address,password):\n",
    "    file = open(user_json,\"r+\")\n",
    "    content = json.load(file)\n",
    "       \n",
    "    for i in range(len(content)):\n",
    "        if (content[i][\"id\"] == user_id):\n",
    "            content[i][\"name\"] == fullname\n",
    "            content[i][\"Phone Number\"] == phone_number\n",
    "            content[i][\"Email\"] == email\n",
    "            content[i][\"Address\"] == address\n",
    "            content[i][\"Password\"] == password\n",
    "            \n",
    "            break\n",
    "    file.seek(0)\n",
    "    file.truncate()\n",
    "    json.dump(content,file,indent=4)\n",
    "    file.close()\n",
    "    return \"Success\"\n",
    "print(update_profile(\"user.json\",\"1\",\"Praful\",\"8208899\",\"prafulsaudagare@gmail.com\",\"Amravati\",\"Praful@123\"))"
   ]
  },
  {
   "cell_type": "code",
   "execution_count": 55,
   "id": "f01e424a",
   "metadata": {},
   "outputs": [
    {
     "name": "stdout",
     "output_type": "stream",
     "text": [
      "False\n"
     ]
    }
   ],
   "source": [
    "def user_order_history(user_json,user_id):\n",
    "    file = open(user_json,\"r+\")\n",
    "    content = json.load(file)\n",
    "    for i in range(len(content)):\n",
    "        if content[i][\"id\"] == user_id:\n",
    "            print(\"Order History\")\n",
    "            print(\"Date | Order\")\n",
    "            for i,j in content[i][\"Order history\"].items():\n",
    "                print(f\"(i) | (j)\")\n",
    "                file.close()\n",
    "            return True\n",
    "    file.close()\n",
    "    return False\n",
    "print(user_order_history(\"user.json\",\"1\"))"
   ]
  },
  {
   "cell_type": "code",
   "execution_count": 56,
   "id": "837f196d",
   "metadata": {},
   "outputs": [
    {
     "name": "stdout",
     "output_type": "stream",
     "text": [
      "Food is already available\n"
     ]
    }
   ],
   "source": [
    "def add_food(food_json,food_name,no_plates=1):\n",
    "    food = {\n",
    "        \"id\":1,\n",
    "        \"name\":food_name,\n",
    "        \"no of plates\":no_plates,\n",
    "        \n",
    "        \n",
    "    }\n",
    "    try:\n",
    "        file = open(food_json,\"r+\")\n",
    "        content = json.load(file)\n",
    "        for i in range(len(content)):\n",
    "            if content[i][\"name\"] == food_name:\n",
    "                file.close()\n",
    "                return\"Food is already available\"\n",
    "        food[\"id\"]=len(content)+1\n",
    "        content.append(food)\n",
    "    \n",
    "    except JSONDecodeError:\n",
    "        content = []\n",
    "        content.append(food)\n",
    "    file.seek(0)\n",
    "    file.truncate()\n",
    "    json.dump(content,file,indent=4)\n",
    "    file.close()\n",
    "    return \"Success\"\n",
    "print(add_food(\"food.json\",\"Dhahiwada\",\"1\"))"
   ]
  },
  {
   "cell_type": "code",
   "execution_count": 57,
   "id": "2e3df5cf",
   "metadata": {},
   "outputs": [
    {
     "name": "stdout",
     "output_type": "stream",
     "text": [
      "Success\n"
     ]
    }
   ],
   "source": [
    "def update_food(food_json,food_id,no_plates=1,price=-1):\n",
    "    file = open(food_json,\"r+\")\n",
    "    content = json.load(file)\n",
    "    #if price>-1 and no_plates>-1\n",
    "    \n",
    "    for i in range(len(content)):\n",
    "        if (content[i][\"id\"] == food_id):\n",
    "            content[i][\"no_plates\"] == no_plates\n",
    "            break\n",
    "    file.seek(0)\n",
    "    file.truncate()\n",
    "    json.dump(content,file,indent=4)\n",
    "    file.close()\n",
    "    return \"Success\"\n",
    "print(update_food(\"food.json\",\"2\",\"Paratha\",\"2\"))"
   ]
  },
  {
   "cell_type": "code",
   "execution_count": 58,
   "id": "797828e3",
   "metadata": {},
   "outputs": [],
   "source": [
    "def remove_food(food_json,food_id):\n",
    "    file = open(food.json,\"r+\")\n",
    "    content = json.load(file)\n",
    "    for i in range(len(content)):\n",
    "        if content[i][\"id\"] == food_id:\n",
    "            del content[i]\n",
    "            file.seek(0)\n",
    "            file.truncate()\n",
    "            json.dump(content,file,indent=4)\n",
    "            file.close()\n",
    "            return \"Success\"\n",
    "    return \"please enter valid ID\""
   ]
  },
  {
   "cell_type": "code",
   "execution_count": 59,
   "id": "d182e8cf",
   "metadata": {},
   "outputs": [],
   "source": [
    "def read_food(food_json):\n",
    "    file = open(food.json,)\n",
    "    content = json.load(file)\n",
    "    print(\"Menu\")\n",
    "    for i in range(len(content)):\n",
    "        print(\"id: \",content[i][\"id\"])\n",
    "        print(f\"---> Name: (content[i]['name'])\")\n",
    "        print(f\"---> Number of plates: (content[i]['no_plates'])\")\n",
    "    file.close()\n",
    "    return True\n",
    "    "
   ]
  },
  {
   "cell_type": "code",
   "execution_count": 60,
   "id": "68b0964a",
   "metadata": {},
   "outputs": [],
   "source": [
    "def user_place_order(user_json, food_json, user_id, food_name, quantity):\n",
    "    date=datetime.datetime.today().starttime('%m-%d-%y')\n",
    "    file = open(user_json,\"r+\")\n",
    "    content= json.load(file)\n",
    "    file1= open(food_json,\"r+\")\n",
    "    for i in range(len(content)):\n",
    "        if content1[i][\"name\"] == food_name:\n",
    "            if content1[i][\"no_plates\"] >= quantity:\n",
    "                for j in range(len(content)):\n",
    "                    if content[j][\"id\"] == user_id:\n",
    "                        content[i][\"no_plates\"]-=qantity\n",
    "                        if date not in content[j][\"Order history\"]:\n",
    "                            content[j][\"Order history\"][date]==list([content1[i][\"name\"]])\n",
    "                        else:\n",
    "                            content[j][\"Order history\"][date].append(content1[i][\"name\"])\n",
    "                    \n",
    "            else:\n",
    "                print(\"Please enter less quantity\")\n",
    "                break\n",
    "        else:\n",
    "            print(\"food not available\")\n",
    "            break\n",
    "    file.seek(0)\n",
    "    file.truncate()\n",
    "    json.dump(content,file,indent=4)\n",
    "    file.close()\n",
    "    file1seek(0)\n",
    "    file1truncate()\n",
    "    json.dump(content,file1, indent=4)\n",
    "    file1close()\n",
    "            "
   ]
  },
  {
   "cell_type": "code",
   "execution_count": 67,
   "id": "6ec4553d",
   "metadata": {},
   "outputs": [
    {
     "name": "stdout",
     "output_type": "stream",
     "text": [
      "Do you want to order food Y/N: y\n",
      "Menu: \n",
      "1) Register\n",
      "2) Login\n",
      "3) Exit\n",
      "Choose on value from above2\n",
      "\n",
      "1) User\n",
      "2) Admin\n",
      "3) Exit\n",
      "Choose one value from above1\n",
      "---------user---------\n",
      "Enter NameSuraj\n",
      "Enter PasswordSuraj@123\n",
      "\n",
      "1) View Menu\n",
      "2) place new order\n",
      "3) Show History of Order\n",
      "4) Update Profile\n",
      "5) exit\n",
      "Enter your choice User !!1\n"
     ]
    },
    {
     "ename": "NameError",
     "evalue": "name 'food' is not defined",
     "output_type": "error",
     "traceback": [
      "\u001b[1;31m---------------------------------------------------------------------------\u001b[0m",
      "\u001b[1;31mNameError\u001b[0m                                 Traceback (most recent call last)",
      "\u001b[1;32m<ipython-input-67-b4200548166c>\u001b[0m in \u001b[0;36m<module>\u001b[1;34m\u001b[0m\n\u001b[0;32m     43\u001b[0m                                 \u001b[0mval3\u001b[0m \u001b[1;33m=\u001b[0m \u001b[0minput\u001b[0m\u001b[1;33m(\u001b[0m\u001b[1;34m\"Enter your choice User !!\"\u001b[0m\u001b[1;33m)\u001b[0m\u001b[1;33m\u001b[0m\u001b[0m\n\u001b[0;32m     44\u001b[0m                                 \u001b[1;32mif\u001b[0m \u001b[0mval3\u001b[0m \u001b[1;33m==\u001b[0m \u001b[1;34m\"1\"\u001b[0m\u001b[1;33m:\u001b[0m\u001b[1;33m\u001b[0m\u001b[0m\n\u001b[1;32m---> 45\u001b[1;33m                                     \u001b[0mread_food\u001b[0m\u001b[1;33m(\u001b[0m\u001b[0mfood\u001b[0m\u001b[1;33m.\u001b[0m\u001b[0mjson\u001b[0m\u001b[1;33m)\u001b[0m\u001b[1;33m\u001b[0m\u001b[0m\n\u001b[0m\u001b[0;32m     46\u001b[0m \u001b[1;33m\u001b[0m\u001b[0m\n\u001b[0;32m     47\u001b[0m                                 \u001b[1;32melif\u001b[0m \u001b[0mval3\u001b[0m \u001b[1;33m==\u001b[0m \u001b[1;34m\"2\"\u001b[0m\u001b[1;33m:\u001b[0m\u001b[1;33m\u001b[0m\u001b[0m\n",
      "\u001b[1;31mNameError\u001b[0m: name 'food' is not defined"
     ]
    }
   ],
   "source": [
    "val = input(\"Do you want to order food Y/N: \")\n",
    "while val.lower() == \"y\":\n",
    "    print(\"Menu: \")\n",
    "    print(\"1) Register\")\n",
    "    print(\"2) Login\")\n",
    "    print(\"3) Exit\")\n",
    "    val1 = input(\"Choose on value from above\")\n",
    "    if val1 == \"1\": \n",
    "        print()\n",
    "        fullname = input(\"Enter the name: \")\n",
    "        phone_number = input(\"Enter the phone number: \")\n",
    "        email = input(\"Enter the Email Id: \")\n",
    "        address = input(\"Enter the Address: \")\n",
    "        password = input(\"Enter the New Password: \")                    \n",
    "        registed_user(user.json,fullname,phone_number,email,address,password)\n",
    "        \n",
    "    \n",
    "    elif val1 == \"2\":           \n",
    "        print()\n",
    "        while True:\n",
    "            print(\"1) User\")\n",
    "            print(\"2) Admin\")\n",
    "            print(\"3) Exit\")\n",
    "            val2 = input(\"Choose one value from above\")\n",
    "        \n",
    "        \n",
    "            if val2 == \"1\":\n",
    "                print(\"---------user---------\")\n",
    "                user = input(\"Enter Name\")\n",
    "                password = input(\"Enter Password\")\n",
    "                file= open(\"user.Json\",\"r+\")\n",
    "                content = json.load(file)\n",
    "                for i in range(len(content)):\n",
    "                    if content[i][\"name\"] == user:\n",
    "                        if content[i][\"Password\"]==password:\n",
    "                            while True:\n",
    "                                print()\n",
    "                                print(\"1) View Menu\")\n",
    "                                print(\"2) place new order\")\n",
    "                                print(\"3) Show History of Order\")\n",
    "                                print(\"4) Update Profile\")\n",
    "                                print(\"5) exit\")\n",
    "                                val3 = input(\"Enter your choice User !!\")\n",
    "                                if val3 == \"1\":\n",
    "                                    read_food(food.json)\n",
    "\n",
    "                                elif val3 == \"2\":\n",
    "                                    user_id = int(input(\"Enter the user id: \"))\n",
    "                                    food_name = input(\"Enter the Food Name you want to eat: \")\n",
    "                                    quantity = int(input(\"Enter the quantity of food: \"))\n",
    "                                    user_place_order(user.json, food_json, user_id, food_name, quantity)\n",
    "                                    update_food(food.json,food_id,no_plates=1,price=-1)\n",
    "                                elif val3 == \"3\":\n",
    "                                    user_id = int(input(\"Enter the user id: \"))\n",
    "                                    user_order_history(user.json,user_id)\n",
    "                                elif val3 == \"4\":\n",
    "                                    update_profile(user.json,user_id,fullname,phone_number,email,address,password)\n",
    "                                    fullname = input(\"Enter the name: \")\n",
    "                                    phone_number = input(\"Enter the phone number: \")\n",
    "                                    email = input(\"Enter the Email Id: \")\n",
    "                                    address = input(\"Enter the Address: \")\n",
    "                                    password = input(\"Enter the New Password: \")\n",
    "\n",
    "\n",
    "                                else:\n",
    "                                    print(\"Thanks for Visit\")\n",
    "                                    break\n",
    "\n",
    "                        else:\n",
    "                            print(\"Wrong Password\")\n",
    "                    else:\n",
    "                        print(\"Wrong Username\")\n",
    "                        \n",
    "            \n",
    "            \n",
    "            elif val2 == \"2\":\n",
    "                print(\"---------Admin---------\")\n",
    "                user = input(\"Enter Name\")\n",
    "                password = input(\"Enter Password\")\n",
    "                file = open(\"admin.jason\",\"r+\")\n",
    "                content = jason.load(file)\n",
    "                if content[\"name\"] == user:\n",
    "                    if content[\"Password\"]==password:\n",
    "                        while True:                        \n",
    "                            print()\n",
    "                            print(\"1) Add new food\")\n",
    "                            print(\"2) Edit Food\")\n",
    "                            print(\"3) View food\")\n",
    "                            print(\"4) Remove food\")\n",
    "                            print(\"5) exit\")\n",
    "                            val3 = input(\"Enter your choice Admin !!\")\n",
    "                            if val3 == \"1\":\n",
    "                                food_name = input(\"Enter Food Name: \")\n",
    "                                no_plates = int(input(\"Enter the stock value: \"))\n",
    "                                add_food(food.json,food_name,no_plates=1)\n",
    "                            elif val3 == \"2\":\n",
    "                                food_id = int(input(\"Enter the Food Id\"))\n",
    "                                no_plates = int(input(\"Enter the stock value: \"))\n",
    "                                update_food(food.json,food_id,no_plates=1,price=-1)\n",
    "                            elif val3 == \"3\":\n",
    "                                read_food(food.json)\n",
    "                            elif val3 == \"4\":\n",
    "                                food_id = int(input(\"Enter the Food Id\"))\n",
    "                                remove_food(food_json,food_id)\n",
    "                            else:\n",
    "                                file.close()\n",
    "                                print(\"bye bye\")\n",
    "                        \n",
    "                            \n",
    "             \n",
    "            \n",
    "                    else:\n",
    "                        print(\"Wrong Password\")\n",
    "                else:\n",
    "                    print(\"Wrong Username\")\n",
    "            else:\n",
    "                break  \n",
    "    else:\n",
    "        print(\"Good Bye\")\n",
    "        break\n",
    "print(val)\n",
    "                        "
   ]
  },
  {
   "cell_type": "code",
   "execution_count": null,
   "id": "97c7bf79",
   "metadata": {},
   "outputs": [],
   "source": []
  }
 ],
 "metadata": {
  "kernelspec": {
   "display_name": "Python 3",
   "language": "python",
   "name": "python3"
  },
  "language_info": {
   "codemirror_mode": {
    "name": "ipython",
    "version": 3
   },
   "file_extension": ".py",
   "mimetype": "text/x-python",
   "name": "python",
   "nbconvert_exporter": "python",
   "pygments_lexer": "ipython3",
   "version": "3.6.5"
  }
 },
 "nbformat": 4,
 "nbformat_minor": 5
}
